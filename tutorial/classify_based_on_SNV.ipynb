{
 "cells": [
  {
   "cell_type": "markdown",
   "metadata": {},
   "source": [
    "## Classifying Tumour Transcriptome based on SNVs/INDELs"
   ]
  },
  {
   "cell_type": "markdown",
   "metadata": {},
   "source": [
    "This is a tutorial to showcase how to use transcriptomic data to uncover cellular pathway modifications in presence of mutations in cancer-related genes. In this tutorial, the focus will be on TP53 tumour suppressor.\n",
    "\n",
    "Here, it is assumed that data is already processed so that the feature matrix (x) has the samples in rows and gene names/ensembl ids in columns with log2(TPM+0.001) in matrix cells. Also, the label vector (y) is expected to have two columns, first with the same sample ids and the second with the mutational status of a gene of interest in each sample. For ease of access, a subset of TCGA data with 100 samples is stored in example_data directory which will be used in this notebook."
   ]
  },
  {
   "cell_type": "code",
   "execution_count": 2,
   "metadata": {},
   "outputs": [],
   "source": [
    "# import required libraries\n",
    "import pandas as pd\n",
    "import numpy as np\n",
    "import timeit\n",
    "import sklearn.metrics\n",
    "import seaborn as sns\n",
    "import matplotlib.pyplot as plt\n",
    "from sklearn.ensemble import RandomForestClassifier\n",
    "from sklearn.model_selection import StratifiedKFold\n",
    "from sklearn.metrics import classification_report, confusion_matrix"
   ]
  },
  {
   "cell_type": "code",
   "execution_count": 3,
   "metadata": {},
   "outputs": [],
   "source": [
    "# read feature matrix (x) and label vector (y)\n",
    "X = pd.read_csv('../example_data/X.tsv', delimiter = '\\t', header=0, index_col=0)\n",
    "y = pd.read_csv('../example_data/y.tsv', delimiter = '\\t', header=0, index_col=0)"
   ]
  },
  {
   "cell_type": "code",
   "execution_count": null,
   "metadata": {},
   "outputs": [],
   "source": []
  }
 ],
 "metadata": {
  "language_info": {
   "name": "python"
  }
 },
 "nbformat": 4,
 "nbformat_minor": 2
}
