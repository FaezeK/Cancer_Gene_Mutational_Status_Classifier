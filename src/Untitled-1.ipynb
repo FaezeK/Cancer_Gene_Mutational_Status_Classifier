{
 "cells": [
  {
   "cell_type": "code",
   "execution_count": 1,
   "metadata": {},
   "outputs": [],
   "source": [
    "import pandas as pd\n",
    "import numpy as np\n",
    "import timeit\n",
    "import test_performance_helper as tph\n",
    "import sklearn.metrics\n",
    "from scipy import stats\n",
    "from sklearn.ensemble import RandomForestClassifier\n",
    "from sklearn.model_selection import StratifiedKFold\n",
    "from sklearn.metrics import classification_report, confusion_matrix"
   ]
  },
  {
   "cell_type": "code",
   "execution_count": 2,
   "metadata": {},
   "outputs": [],
   "source": [
    "gene_of_interest = 'AR'"
   ]
  },
  {
   "cell_type": "code",
   "execution_count": 3,
   "metadata": {},
   "outputs": [],
   "source": [
    "X = pd.read_csv('../tmp_data/feature_matrix.txt', delimiter = '\\t', header=0, index_col=0)\n",
    "y = pd.read_csv('../tmp_data/label_vector.txt', delimiter = '\\t', header=0, index_col=0)"
   ]
  },
  {
   "cell_type": "code",
   "execution_count": 4,
   "metadata": {},
   "outputs": [],
   "source": [
    "X_cnv = pd.read_csv('../tmp_data/feature_matrix_cnv.txt', delimiter = '\\t', header=0, index_col=0)\n",
    "y_cnv = pd.read_csv('../tmp_data/label_vector_cnv.txt', delimiter = '\\t', header=0, index_col=0)\n",
    "\n",
    "# read the file with best hyperparameters\n",
    "best_hp = pd.read_csv('../results/'+str(gene_of_interest)+'/best_hyper_param.txt', delimiter = '\\t', header=0)\n",
    "\n",
    "# read the file containing the best setting\n",
    "best_setting = pd.read_csv('/projects/fkeshavarz_prj/fkeshavarz_scratch/data/best_classification_setting.tsv', delimiter = '\\t', header=0)"
   ]
  },
  {
   "cell_type": "code",
   "execution_count": null,
   "metadata": {},
   "outputs": [],
   "source": [
    "tcga_t_type = pd.read_csv('/projects/fkeshavarz_prj/fkeshavarz_scratch/data/tcga/tcga_t_type.tsv', delimiter = '\\t', header=0)\n",
    "pog_t_type = pd.read_csv('/projects/fkeshavarz_prj/fkeshavarz_scratch/data/pog/hg38/pog_t_type.tsv', delimiter = '\\t', header=0)\n",
    "\n",
    "# read expression data of samples with non-impactful mutations\n",
    "tcga_tpm_not_impactful_mut = pd.read_csv('../tmp_data/tcga_tpm_not_impactful_mut.txt', delimiter = '\\t', header=0, index_col=0)\n",
    "pog_tpm_not_impactful_mut = pd.read_csv('../tmp_data/pog_tpm_not_impactful_mut.txt', delimiter = '\\t', header=0, index_col=0)\n",
    "\n",
    "# read processed mutation data\n",
    "tcga_all_mut = pd.read_csv('../tmp_data/tcga_mut_prcssd.tsv', delimiter = '\\t', header=0)\n",
    "pog_all_mut = pd.read_csv('../tmp_data/pog_mut_prcssd.tsv', delimiter = '\\t', header=0)"
   ]
  },
  {
   "cell_type": "code",
   "execution_count": null,
   "metadata": {},
   "outputs": [],
   "source": [
    "tumour_type_dict = {'APC':['COADREAD'],\n",
    "                    'AR':['KIRP'],\n",
    "                    'ARID1A':['BRCA', 'LGG', 'LIHC', 'PCPG', 'UVM'],\n",
    "                    'ASXL1':['BRCA','CESC'],\n",
    "                    'ATM':['BRCA', 'CESC', 'PCPG'],\n",
    "                    'ATR':['HNSC', 'KIRP', 'PCPG'],\n",
    "                    'ATRX':['LGG'],\n",
    "                    'BRAF':['COADREAD', 'SKCM', 'THCA'],\n",
    "                    'BRCA1':['BRCA', 'KICH', 'KIRP', 'UCEC'],\n",
    "                    'BRCA2':['BRCA'],\n",
    "                    'CDH1':['KIRP', 'LIHC', 'PRAD', 'SARC', 'THYM', 'UCEC', 'UVM'],\n",
    "                    'CDK12':['BRCA', 'KICH', 'KIRP', 'SARC', 'UCEC'],\n",
    "                    'CDKN2A':['HNSC', 'KIRC', 'LGG', 'MESO', 'PAAD', 'UCEC'],\n",
    "                    'CTCF':['KIRP', 'LIHC', 'PRAD', 'SARC', 'THYM', 'UVM'],\n",
    "                    'CTNNB1':['BRCA', 'CESC', 'HNSC', 'KIRC', 'LIHC', 'PCPG', 'UVM'],\n",
    "                    'EGFR':['COADREAD', 'HNSC', 'KIRP', 'LGG', 'STAD', 'THCA'],\n",
    "                    'EP300':['BRCA', 'PCPG', 'THCA', 'UCEC'],\n",
    "                    'ERBB4':['CESC', 'PAAD'],\n",
    "                    'EZH2':['COADREAD', 'KIRP', 'LGG', 'THCA', 'THYM'],\n",
    "                    'FBXW7':['LIHC', 'MESO', 'UCEC'],\n",
    "                    'FLT3':['UCEC'],\n",
    "                    'GATA3':['LGG', 'SARC'],\n",
    "                    'KDM6A':['KIRP', 'UCEC'],\n",
    "                    'KEAP1':['GBM', 'LUAD', 'STAD', 'UCEC'],\n",
    "                    'KIT':['ACC', 'KICH'],\n",
    "                    'KRAS':['COADREAD', 'PAAD'],\n",
    "                    'MAP3K1':['BLCA', 'HNSC', 'PRAD', 'STAD'],\n",
    "                    'MECOM':['UCEC', 'UVM'],\n",
    "                    'MTOR':['BRCA', 'LGG', 'PCPG'],\n",
    "                    'NCOR1':['BRCA', 'COADREAD', 'KICH', 'KIRP', 'LIHC', 'PAAD', 'PCPG', 'UCEC'],\n",
    "                    'NF1':['BRCA', 'KICH', 'KIRP', 'PCPG', 'SARC', 'UCEC'],\n",
    "                    'NFE2L2':['KICH', 'THCA'],\n",
    "                    'NOTCH1':['KIRC'],\n",
    "                    'NRAS':['LGG', 'PCPG'],\n",
    "                    'NSD1':['BLCA', 'HNSC', 'KIRC'],\n",
    "                    'PBRM1':['BRCA', 'CESC', 'HNSC', 'KIRC', 'KIRP', 'PCPG', 'UVM'],\n",
    "                    'PDGFRA':['KICH'],\n",
    "                    'PIK3CA':['KIRP', 'PCPG', 'UVM'],\n",
    "                    'PIK3R1':['BLCA', 'HNSC', 'STAD'],\n",
    "                    'POLQ':['BRCA'],\n",
    "                    'PTEN':['LGG', 'PRAD', 'SARC', 'SKCM'],\n",
    "                    'RB1':['BRCA', 'CESC', 'COADREAD', 'GBM', 'LGG', 'LIHC', 'PRAD', 'SARC'],\n",
    "                    'SETBP1':['HNSC', 'PRAD'],\n",
    "                    'SETD2':['BRCA', 'CESC', 'HNSC', 'KIRC', 'KIRP', 'PCPG', 'UVM'],\n",
    "                    'SF3B1':['UVM'],\n",
    "                    'SMAD4':['STAD'],\n",
    "                    'SPOP':['BRCA', 'KICH', 'KIRP'],\n",
    "                    'STAG2':['KIRP'],\n",
    "                    'TET2':['LIHC', 'MESO'],\n",
    "                    'TP53':['BLCA', 'BRCA', 'COADREAD', 'HNSC', 'LGG', 'LIHC', 'LUAD', 'STAD', 'UCEC']}"
   ]
  },
  {
   "cell_type": "code",
   "execution_count": null,
   "metadata": {},
   "outputs": [],
   "source": [
    "all_t_type = pd.concat([tcga_t_type, pog_t_type], axis=0)\n",
    "spcfc_t_types = all_t_type[all_t_type.tumour_type_abbv.isin(tumour_type_dict[gene_of_interest])]\n",
    "spcfc_p_ids = spcfc_t_types[spcfc_t_types.tumour_type_abbv.isin(tumour_type_dict[gene_of_interest])].p_id\n",
    "\n",
    "# filter X and y based on above ids\n",
    "if best_setting[best_setting.gene==gene_of_interest].best_setting.iloc[0] == 'SNV_only':\n",
    "    X_new = X.loc[(X.index.isin(spcfc_p_ids)==True),]\n",
    "    y_new = y.loc[(y.index.isin(spcfc_p_ids)==True),]\n",
    "elif best_setting[best_setting.gene==gene_of_interest].best_setting.iloc[0] == 'SNV_CNV':\n",
    "    X_new = X_cnv.loc[(X_cnv.index.isin(spcfc_p_ids)==True),]\n",
    "    y_new = y_cnv.loc[(y_cnv.index.isin(spcfc_p_ids)==True),]"
   ]
  },
  {
   "cell_type": "code",
   "execution_count": null,
   "metadata": {},
   "outputs": [],
   "source": [
    "hps = best_hp.iloc[2,][0].split(',')\n",
    "\n",
    "for i in range(len(hps)):\n",
    "    if 'max_depth' in hps[i]:\n",
    "        best_max_depth = int(hps[i].split(':')[1])\n",
    "    elif 'max_features' in hps[i]:\n",
    "        if 'sqrt' in hps[i].split(':')[1]:\n",
    "            best_max_features = 'sqrt'\n",
    "        else:\n",
    "            best_max_features = float(hps[i].split(':')[1])\n",
    "    elif 'max_samples' in hps[i]:\n",
    "        best_max_samples = float(hps[i].split(':')[1])\n",
    "    elif 'min_samples_leaf' in hps[i]:\n",
    "        best_min_samples_leaf = int(hps[i].split(':')[1])\n",
    "    elif 'min_samples_split' in hps[i]:\n",
    "        best_min_samples_split = int(hps[i].split(':')[1])"
   ]
  },
  {
   "cell_type": "code",
   "execution_count": null,
   "metadata": {},
   "outputs": [],
   "source": [
    "clf = RandomForestClassifier(n_estimators=3000, max_depth=best_max_depth, max_features=best_max_features, \n",
    "                             max_samples=best_max_samples, min_samples_split=best_min_samples_split, \n",
    "                             min_samples_leaf=best_min_samples_leaf, n_jobs=40)\n",
    "\n",
    "skf = StratifiedKFold(n_splits=5, shuffle=True)\n",
    "\n",
    "# random forest performance on tcga and pog\n",
    "y_new = y_new.y\n",
    "all_pred_df, all_prob, true_label_prob = tph.test_performance_5_fold_CV(clf, skf, X_new, y_new)"
   ]
  },
  {
   "cell_type": "code",
   "execution_count": null,
   "metadata": {},
   "outputs": [],
   "source": [
    "print(confusion_matrix(all_pred_df.status, all_pred_df.predict, labels=['mut','wt']))\n",
    "print(classification_report(all_pred_df.status, all_pred_df.predict))"
   ]
  },
  {
   "cell_type": "code",
   "execution_count": null,
   "metadata": {},
   "outputs": [],
   "source": []
  }
 ],
 "metadata": {
  "language_info": {
   "name": "python"
  }
 },
 "nbformat": 4,
 "nbformat_minor": 2
}
